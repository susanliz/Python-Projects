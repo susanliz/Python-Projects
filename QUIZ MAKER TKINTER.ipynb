{
 "cells": [
  {
   "cell_type": "code",
   "execution_count": 220,
   "metadata": {},
   "outputs": [],
   "source": [
    "from tkinter import *\n",
    "\n",
    "from tkinter.ttk import Combobox,Checkbutton,Radiobutton,Progressbar \n",
    "from tkinter.ttk import Frame,Notebook\n",
    "\n",
    "\n",
    "from tkinter import scrolledtext,messagebox\n",
    "\n",
    "from tkinter import filedialog,Menu"
   ]
  },
  {
   "cell_type": "code",
   "execution_count": 221,
   "metadata": {},
   "outputs": [],
   "source": [
    "def q1():\n",
    "    text = entry1.get()\n",
    "    print(text)\n"
   ]
  },
  {
   "cell_type": "code",
   "execution_count": 222,
   "metadata": {},
   "outputs": [],
   "source": [
    "a={\"Name the country hosting FIFA Worldcup 2022?\":[\"A.Dubai\",\"B.Saudi Arabia\",\"C.Qatar\"],\n",
    "          \"Who is the author of Wings of Fire\":[\"A. Manmohan Singh\",\n",
    "                                                \"B. A B Vajpayee\",\"C.APJ Abdul Kalaam \"],\n",
    "                \n",
    "                                                \"Name the Largest Desert in the world\":[\"A.Kalahari Desert\",\n",
    "                                                \"B.Thar Desert\",\"C.Sahara Desert\"],\n",
    "                \n",
    "                                                \"The biggest herbarium in India is located at\":[\"A.Delhi\",\"B.Bengaluru\",\n",
    "                                                \"C.Kolkata\"],\n",
    "                \n",
    "                                                \"The first Post Office ATM in India is opened at\":[\"A.Mumbai\",\"B.Delhi\",\n",
    "                                                \"C.Chennai\"],\n",
    "                \n",
    "                                                \"Which city is known as Manchester of South India\":[\"A.Kochi\",\n",
    "                                                \"B.Pondicherry\",\"C.Coimbatore\"]\n",
    "                                                \n",
    "                                               }"
   ]
  },
  {
   "cell_type": "code",
   "execution_count": 223,
   "metadata": {},
   "outputs": [],
   "source": [
    "import random\n",
    "questions = list(a.items())\n",
    "random.shuffle(questions)\n",
    "\n"
   ]
  },
  {
   "cell_type": "code",
   "execution_count": 224,
   "metadata": {},
   "outputs": [],
   "source": [
    "count=0\n",
    "def get_question():\n",
    "            \n",
    "    global questions\n",
    "    global answer\n",
    "    global answers\n",
    "    global count\n",
    "    global question1\n",
    "    global total\n",
    "    global wrong\n",
    "    global total_questions\n",
    "    user_answer = combo.get()\n",
    "    \n",
    "    \n",
    "    if user_answer == answer:\n",
    "        count+=1\n",
    "        #print(count)\n",
    "#         print(user_answer,'---------',answer)\n",
    "    elif user_answer != answer:\n",
    "        count-=1\n",
    "        \n",
    "    total=count\n",
    "    \n",
    "    total_questions = len(questions)\n",
    "    if questions:\n",
    "        question1 = list(questions.pop())\n",
    "        question = question1[0]\n",
    "        answers = question1[1]\n",
    "        answer = answers[-1]\n",
    "        random.shuffle(answers)\n",
    "        txt.delete('1.0', END)\n",
    "        txt.insert(INSERT,question)\n",
    "        combo['values'] = answers\n",
    "        combo.current(0)\n",
    "    \n",
    "    \n",
    "        \n",
    "    print(count)\n",
    "    \n",
    "def score_card():\n",
    "    total_questions = len(questions)\n",
    "    messagebox.showinfo('Total',f\" {total} correct!\")\n",
    "  "
   ]
  },
  {
   "cell_type": "code",
   "execution_count": 225,
   "metadata": {},
   "outputs": [
    {
     "name": "stdout",
     "output_type": "stream",
     "text": [
      "-1\n",
      "-2\n",
      "-3\n",
      "-4\n",
      "-5\n",
      "-6\n"
     ]
    }
   ],
   "source": [
    "window = Tk()\n",
    "window.title('Quiz maker')\n",
    "window.geometry('500x400')\n",
    "\n",
    "\n",
    "txt = scrolledtext.ScrolledText(window,height = 15,width=60)\n",
    "question1 = list(questions.pop())\n",
    "question = question1[0]\n",
    "answers = question1[1]\n",
    "txt.pack()\n",
    "txt.insert(INSERT ,question)\n",
    "\n",
    "#sel=StringVar()\n",
    "combo = Combobox(window)\n",
    "combo['values'] = answers\n",
    "combo.current(0)\n",
    "user_answer = combo.get()\n",
    "combo.pack()\n",
    "\n",
    "submit_button = Button(window,text=\"Submit\",command=get_question)\n",
    "submit_button.pack()\n",
    "\n",
    "result_button = Button(window,text=\"Result\",command=score_card)\n",
    "\n",
    "\n",
    "total=count\n",
    "\n",
    "result_button.pack()\n",
    "\n",
    "\n",
    "\n",
    "window.mainloop()"
   ]
  },
  {
   "cell_type": "code",
   "execution_count": null,
   "metadata": {},
   "outputs": [],
   "source": []
  }
 ],
 "metadata": {
  "kernelspec": {
   "display_name": "Python 3",
   "language": "python",
   "name": "python3"
  },
  "language_info": {
   "codemirror_mode": {
    "name": "ipython",
    "version": 3
   },
   "file_extension": ".py",
   "mimetype": "text/x-python",
   "name": "python",
   "nbconvert_exporter": "python",
   "pygments_lexer": "ipython3",
   "version": "3.8.10"
  }
 },
 "nbformat": 4,
 "nbformat_minor": 4
}
